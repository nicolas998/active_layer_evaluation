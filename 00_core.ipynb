{
 "cells": [
  {
   "cell_type": "code",
   "execution_count": 8,
   "metadata": {
    "ExecuteTime": {
     "end_time": "2020-06-29T14:56:53.865454Z",
     "start_time": "2020-06-29T14:56:53.863448Z"
    }
   },
   "outputs": [],
   "source": [
    "# default_exp core"
   ]
  },
  {
   "cell_type": "markdown",
   "metadata": {},
   "source": [
    "# Active layer and tiles model performance evaluation\n",
    "\n",
    "> API details."
   ]
  },
  {
   "cell_type": "code",
   "execution_count": 9,
   "metadata": {
    "ExecuteTime": {
     "end_time": "2020-06-29T14:56:55.519664Z",
     "start_time": "2020-06-29T14:56:55.296823Z"
    }
   },
   "outputs": [],
   "source": [
    "#hide\n",
    "from nbdev.showdoc import *"
   ]
  },
  {
   "cell_type": "code",
   "execution_count": 1,
   "metadata": {
    "ExecuteTime": {
     "end_time": "2020-06-30T15:02:13.054875Z",
     "start_time": "2020-06-30T15:02:11.493769Z"
    }
   },
   "outputs": [],
   "source": [
    "#exports\n",
    "import numpy as np \n",
    "import pandas as pd\n",
    "import pylab as pl\n",
    "\n",
    "colors = ['#52270C','#A1623B','#E7A011','#F3DE0A']\n",
    "\n",
    "def get_intersec(metric, prod1, prod2, Me ,y1 = '2002', y2 = '2018'):\n",
    "    '''Get the intersection for a given metric between two products of the event metrics data\n",
    "    Inputs:\n",
    "        -metric: the nme of the metric to analize.\n",
    "        -prod1 and prod2: the products from to get the interserctio.\n",
    "        -Me: Metrics table with the products and the metrics.\n",
    "        -y1 and y2: initial and end years to analize.'''\n",
    "    Mec = Me.loc[y1:y2]\n",
    "    a = Mec[[metric,'link']][Mec['product'] == prod1]\n",
    "    a.set_index([a.index, a.link], inplace=True)\n",
    "    #a.drop_duplicates(inplace = True)\n",
    "    b = Mec[[metric,'link']][Mec['product'] == prod2]\n",
    "    b.set_index([b.index, b.link], inplace=True)\n",
    "    #b.drop_duplicates(inplace = True)\n",
    "    idx = a.index.intersection(b.index)\n",
    "    return a,b,idx\n",
    "\n",
    "def percentiles(obs, sim, steps = 10, bins = None, perc = 50, percMax = 99.5):\n",
    "    '''Obtains the percentile for the sim value that corresponds to\n",
    "    an oberved value.\n",
    "    Parameters:\n",
    "        -obs: observed peaks or time serie.\n",
    "        -sim: simulated peaks or time serie.\n",
    "        -steps: number of splits to estimate the percentile.\n",
    "        -perc: percentile to estimate\n",
    "        -percMax: Max value to divide the observations.\n",
    "    Returns:\n",
    "        -A vector (2,N) where the first row corresponds to the percentiles\n",
    "        at the observation and the second to the percentiles at the simulation'''\n",
    "    if bins is None:\n",
    "        bins = np.linspace(obs.min(), np.percentile(obs, percMax), steps)\n",
    "    X = []; Y = []\n",
    "    for i,j in zip(bins[:-1], bins[1:]):\n",
    "        Y.append(np.percentile(sim[(obs>i) & (obs<=j)], perc))\n",
    "        X.append((i+j)/2.)\n",
    "        #Y.append(np.percentile(sim[(obs>i) & (obs<=j)], perc))\n",
    "    return np.vstack([X,Y])\n",
    "\n",
    "def plot_hist2d(ax, Met, prod1, prod2, bins, metric='kge',x1=-1,x2=1,y = 2016,\n",
    "                cmap = False, vmin = 0, vmax = 10000, cmin = 0, cmax = 10000):\n",
    "    '''Make a 2d hist plot of a metric using two products from the metrics file.'''\n",
    "    #Get the intersection\n",
    "    B = Met.loc[y]\n",
    "    a = B[[metric,'link']][B['product'] == prod1]\n",
    "    b = B[[metric,'link']][B['product'] == prod2]\n",
    "    idx = a.index.intersection(b.index)\n",
    "    #Make the plot\n",
    "    pl.hist2d(a.loc[idx][metric], b.loc[idx][metric], cmap = pl.get_cmap('coolwarm'),\n",
    "              bins=bins, cmin = cmin, cmax = cmax, vmin = vmin, vmax = vmax)\n",
    "    \n",
    "    if cmap:\n",
    "        cmap = pl.colorbar(orientation = 'horizontal', pad = 0.15)\n",
    "        cmap.ax.tick_params(labelsize = 20)\n",
    "    #cmap.set_ticks(t)\n",
    "    ax.plot([x1,x2], [x1,x2], c = 'k', lw = 2)\n",
    "    ax.tick_params(labelsize = 21)\n",
    "    ax.set_xlim(x1,x2)\n",
    "    ax.set_ylim(x1,x2)\n",
    "    ax.set_xlabel(prod1, size = 21)\n",
    "    ax.set_ylabel(prod2, size = 21)\n",
    "    ax.set_title(prod2+' vs '+prod1, size = 23)\n",
    "    return ax, cmap\n",
    "\n",
    "def get_histogram(data, bins, inf = None, sup = None):\n",
    "    '''Get an histogram for the given data taking into account \n",
    "    an inferior limit to add there all the values less than it.'''\n",
    "    h,b = np.histogram(data, bins)\n",
    "    if inf is not None:\n",
    "        h[0] +=  data[data<inf].size\n",
    "    if sup is not None:\n",
    "        h[-1] +=  data[data> sup].size\n",
    "    h = h / h.sum()\n",
    "    return h, b\n",
    "\n",
    "def summary_metric(Met, products, metric, min_max = 'max', absolute = False):\n",
    "    '''Produces a summary of a given metric including only the assigned products\n",
    "    Parameters:\n",
    "        - Met: Metric file DataFrame.\n",
    "        - products: list of the products to be included.\n",
    "        - metric: Name of the metric to evaluate, must be in the Metrics File.\n",
    "        - min_max: is the metric a maximum or a minimum.\n",
    "        - absolute: The value is absolute or not.'''\n",
    "    G = Met.groupby(['link','product']).mean()\n",
    "    Mres = {}\n",
    "    for l in Met.link.unique():\n",
    "        D = {}\n",
    "        for p in products:\n",
    "            D.update({p: G.loc[(l, p)][metric]})\n",
    "            Mres.update({l: D})\n",
    "    Mres = pd.DataFrame.from_dict(Mres).T\n",
    "    Mres.dropna(inplace=True)\n",
    "    if min_max =='max':\n",
    "        if absolute:            \n",
    "            _t1 = Mres.apply(lambda x: x[np.argmax(np.abs(x))], axis = 1)\n",
    "            _t2 = Mres.abs().idxmax(axis=1)\n",
    "            Mres['max_'+metric] = _t1\n",
    "            Mres['best'] = _t2\n",
    "        else:\n",
    "            Mres['best'] = Mres.idxmax(axis=1)\n",
    "            Mres['max_'+metric] = Mres.max(axis = 1)\n",
    "    else:\n",
    "        if absolute:\n",
    "            _t1 = Mres.apply(lambda x: x[np.argmin(np.abs(x))], axis = 1)\n",
    "            _t2 = Mres.abs().idxmin(axis=1)\n",
    "            Mres['min_'+metric] = _t1\n",
    "            Mres['best'] = _t2\n",
    "        else:\n",
    "            Mres['best'] = Mres.idxmin(axis=1)\n",
    "            Mres['min_'+metric] = Mres.min(axis = 1)\n",
    "    return Mres\n",
    "\n",
    "def get_intersec_events(Emet, prod1, prod2, metric, qpeak_cond = 0.2):\n",
    "    '''Get the intersection of two products using the event metric table'''\n",
    "    a = Emet.loc[Emet['product'] == prod1, [metric, 'qpeak','qmax_anual','link']]\n",
    "    b = Emet.loc[Emet['product'] == prod2, [metric, 'qpeak','qmax_anual','link']]\n",
    "    a.dropna(inplace=True)\n",
    "    b.dropna(inplace=True)\n",
    "    \n",
    "    if qpeak_cond is not None:\n",
    "        a['qsca'] = a['qpeak'] / a['qmax_anual']\n",
    "        b['qsca'] = b['qpeak'] / b['qmax_anual']\n",
    "        a.drop(a.loc[a['qsca'] < qpeak_cond].index, inplace = True)\n",
    "        b.drop(b.loc[b['qsca'] < qpeak_cond].index, inplace = True)\n",
    "\n",
    "    idx = a.index.intersection(b.index)\n",
    "    a = a.loc[idx]\n",
    "    b = b.loc[idx]\n",
    "    return a,b"
   ]
  },
  {
   "cell_type": "code",
   "execution_count": null,
   "metadata": {
    "ExecuteTime": {
     "end_time": "2020-06-29T14:56:58.694750Z",
     "start_time": "2020-06-29T14:56:58.559042Z"
    }
   },
   "outputs": [],
   "source": [
    "from nbdev.export import *\n",
    "notebook2script()"
   ]
  },
  {
   "cell_type": "code",
   "execution_count": null,
   "metadata": {},
   "outputs": [],
   "source": []
  }
 ],
 "metadata": {
  "kernelspec": {
   "display_name": "Python 3",
   "language": "python",
   "name": "python3"
  },
  "language_info": {
   "codemirror_mode": {
    "name": "ipython",
    "version": 3
   },
   "file_extension": ".py",
   "mimetype": "text/x-python",
   "name": "python",
   "nbconvert_exporter": "python",
   "pygments_lexer": "ipython3",
   "version": "3.7.0"
  },
  "toc": {
   "base_numbering": 1,
   "nav_menu": {},
   "number_sections": true,
   "sideBar": true,
   "skip_h1_title": false,
   "title_cell": "Table of Contents",
   "title_sidebar": "Contents",
   "toc_cell": false,
   "toc_position": {},
   "toc_section_display": true,
   "toc_window_display": false
  },
  "varInspector": {
   "cols": {
    "lenName": 16,
    "lenType": 16,
    "lenVar": 40
   },
   "kernels_config": {
    "python": {
     "delete_cmd_postfix": "",
     "delete_cmd_prefix": "del ",
     "library": "var_list.py",
     "varRefreshCmd": "print(var_dic_list())"
    },
    "r": {
     "delete_cmd_postfix": ") ",
     "delete_cmd_prefix": "rm(",
     "library": "var_list.r",
     "varRefreshCmd": "cat(var_dic_list()) "
    }
   },
   "types_to_exclude": [
    "module",
    "function",
    "builtin_function_or_method",
    "instance",
    "_Feature"
   ],
   "window_display": false
  }
 },
 "nbformat": 4,
 "nbformat_minor": 2
}
