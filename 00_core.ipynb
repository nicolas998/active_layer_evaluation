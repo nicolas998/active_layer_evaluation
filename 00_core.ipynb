{
 "cells": [
  {
   "cell_type": "code",
   "execution_count": 8,
   "metadata": {
    "ExecuteTime": {
     "end_time": "2020-06-29T14:56:53.865454Z",
     "start_time": "2020-06-29T14:56:53.863448Z"
    }
   },
   "outputs": [],
   "source": [
    "# default_exp core"
   ]
  },
  {
   "cell_type": "markdown",
   "metadata": {},
   "source": [
    "# Active layer and tiles model performance evaluation\n",
    "\n",
    "> API details."
   ]
  },
  {
   "cell_type": "code",
   "execution_count": 9,
   "metadata": {
    "ExecuteTime": {
     "end_time": "2020-06-29T14:56:55.519664Z",
     "start_time": "2020-06-29T14:56:55.296823Z"
    }
   },
   "outputs": [],
   "source": [
    "#hide\n",
    "from nbdev.showdoc import *"
   ]
  },
  {
   "cell_type": "code",
   "execution_count": 19,
   "metadata": {
    "ExecuteTime": {
     "end_time": "2020-06-29T15:05:58.626837Z",
     "start_time": "2020-06-29T15:05:58.617210Z"
    }
   },
   "outputs": [],
   "source": [
    "#exports\n",
    "import numpy as np \n",
    "import pandas as pd\n",
    "import plotly as pl\n",
    "\n",
    "colors = ['#52270C','#A1623B','#E7A011','#F3DE0A']\n",
    "\n",
    "def get_intersec(metric, prod1, prod2, Me ,y1 = '2002', y2 = '2018'):\n",
    "    '''Get the intersection for a given metric between two products of the event metrics data\n",
    "    Inputs:\n",
    "        -metric: the nme of the metric to analize.\n",
    "        -prod1 and prod2: the products from to get the interserctio.\n",
    "        -Me: Metrics table with the products and the metrics.\n",
    "        -y1 and y2: initial and end years to analize.'''\n",
    "    Mec = Me.loc[y1:y2]\n",
    "    a = Mec[[metric,'link']][Mec['product'] == prod1]\n",
    "    a.set_index([a.index, a.link], inplace=True)\n",
    "    #a.drop_duplicates(inplace = True)\n",
    "    b = Mec[[metric,'link']][Mec['product'] == prod2]\n",
    "    b.set_index([b.index, b.link], inplace=True)\n",
    "    #b.drop_duplicates(inplace = True)\n",
    "    idx = a.index.intersection(b.index)\n",
    "    return a,b,idx\n",
    "\n",
    "def percentiles(obs, sim, steps = 10, bins = None, perc = 50, percMax = 99.5):\n",
    "    '''Obtains the percentile for the sim value that corresponds to\n",
    "    an oberved value.\n",
    "    Parameters:\n",
    "        -obs: observed peaks or time serie.\n",
    "        -sim: simulated peaks or time serie.\n",
    "        -steps: number of splits to estimate the percentile.\n",
    "        -perc: percentile to estimate\n",
    "        -percMax: Max value to divide the observations.\n",
    "    Returns:\n",
    "        -A vector (2,N) where the first row corresponds to the percentiles\n",
    "        at the observation and the second to the percentiles at the simulation'''\n",
    "    if bins is None:\n",
    "        bins = np.linspace(obs.min(), np.percentile(obs, percMax), steps)\n",
    "    X = []; Y = []\n",
    "    for i,j in zip(bins[:-1], bins[1:]):\n",
    "        Y.append(np.percentile(sim[(obs>i) & (obs<=j)], perc))\n",
    "        X.append((i+j)/2.)\n",
    "        #Y.append(np.percentile(sim[(obs>i) & (obs<=j)], perc))\n",
    "    return np.vstack([X,Y])"
   ]
  },
  {
   "cell_type": "code",
   "execution_count": null,
   "metadata": {
    "ExecuteTime": {
     "end_time": "2020-06-29T14:56:58.694750Z",
     "start_time": "2020-06-29T14:56:58.559042Z"
    }
   },
   "outputs": [],
   "source": [
    "from nbdev.export import *\n",
    "notebook2script()"
   ]
  },
  {
   "cell_type": "code",
   "execution_count": null,
   "metadata": {},
   "outputs": [],
   "source": []
  }
 ],
 "metadata": {
  "kernelspec": {
   "display_name": "Python 3",
   "language": "python",
   "name": "python3"
  },
  "language_info": {
   "codemirror_mode": {
    "name": "ipython",
    "version": 3
   },
   "file_extension": ".py",
   "mimetype": "text/x-python",
   "name": "python",
   "nbconvert_exporter": "python",
   "pygments_lexer": "ipython3",
   "version": "3.7.0"
  },
  "toc": {
   "base_numbering": 1,
   "nav_menu": {},
   "number_sections": true,
   "sideBar": true,
   "skip_h1_title": false,
   "title_cell": "Table of Contents",
   "title_sidebar": "Contents",
   "toc_cell": false,
   "toc_position": {},
   "toc_section_display": true,
   "toc_window_display": false
  },
  "varInspector": {
   "cols": {
    "lenName": 16,
    "lenType": 16,
    "lenVar": 40
   },
   "kernels_config": {
    "python": {
     "delete_cmd_postfix": "",
     "delete_cmd_prefix": "del ",
     "library": "var_list.py",
     "varRefreshCmd": "print(var_dic_list())"
    },
    "r": {
     "delete_cmd_postfix": ") ",
     "delete_cmd_prefix": "rm(",
     "library": "var_list.r",
     "varRefreshCmd": "cat(var_dic_list()) "
    }
   },
   "types_to_exclude": [
    "module",
    "function",
    "builtin_function_or_method",
    "instance",
    "_Feature"
   ],
   "window_display": false
  }
 },
 "nbformat": 4,
 "nbformat_minor": 2
}
