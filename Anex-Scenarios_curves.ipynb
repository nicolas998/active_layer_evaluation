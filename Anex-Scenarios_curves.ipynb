{
 "cells": [
  {
   "cell_type": "code",
   "execution_count": null,
   "metadata": {
    "ExecuteTime": {
     "end_time": "2020-07-02T13:52:50.229628Z",
     "start_time": "2020-07-02T13:52:49.237688Z"
    }
   },
   "outputs": [],
   "source": [
    "%matplotlib inline \n",
    "import pandas as pd \n",
    "import pylab as pl \n",
    "import numpy as np "
   ]
  },
  {
   "cell_type": "markdown",
   "metadata": {},
   "source": [
    "# Read parameters and define functions"
   ]
  },
  {
   "cell_type": "code",
   "execution_count": 2,
   "metadata": {
    "ExecuteTime": {
     "end_time": "2020-07-02T13:53:35.844017Z",
     "start_time": "2020-07-02T13:53:35.838996Z"
    }
   },
   "outputs": [],
   "source": [
    "param = pd.read_msgpack('data/results/hydrus_derived_param.msg')\n",
    "vols{'noT': pd.read_cs}"
   ]
  },
  {
   "cell_type": "code",
   "execution_count": null,
   "metadata": {},
   "outputs": [],
   "source": []
  },
  {
   "cell_type": "code",
   "execution_count": null,
   "metadata": {},
   "outputs": [],
   "source": [
    "def qsLinkTile(x, m, a, c, NoFlow, B, Td, b, d):\n",
    "    '''A function that recreates the approximation to tiles and no tiles \n",
    "    behavior obtained by Hydrus'''\n",
    "    qout = (x - NoFlow)*m  \n",
    "    if x > B:\n",
    "        x1 = x - B\n",
    "        qout += x1*a*np.exp(b*x1)\n",
    "    if x > Td:\n",
    "        x1 = x - Td\n",
    "        qout += x1*c*np.exp(d*x1)\n",
    "    return qout"
   ]
  },
  {
   "cell_type": "code",
   "execution_count": null,
   "metadata": {},
   "outputs": [],
   "source": [
    "fig = pl.figure(figsize=(10,8))\n",
    "ax = fig.add_subplot(111)\n",
    "for k,la in zip(['2'],[0,1,2,3]):\n",
    "    \n",
    "    So = Vols[fac[k]['lab']]\n",
    "    Ss = pd.DataFrame(np.linspace(So['vol'].min(),So['vol'].max()+0.4, 50), columns=['vol'])\n",
    "\n",
    "    for i in np.linspace(0.5, 2.5, 2):\n",
    "        for j in np.linspace(0.5, 2.5, 2):\n",
    "            Ss['b*'+str(i)+'_a*'+str(j)] = Ss['vol'].apply(qsLinkTile, \n",
    "                args = (param.loc[k]['m'],param.loc[k]['a']*j,\n",
    "                        param.loc[k]['c']*0,\n",
    "                        param.loc[k]['B'] - param.loc[k]['Sn'], \n",
    "                        param.loc[k]['B'],\n",
    "                        param.loc[k]['Bd'],\n",
    "                        param.loc[k]['b']*i,\n",
    "                        param.loc[k]['d']))\n",
    "            pl.plot(Ss['vol'], Ss['b*'+str(i)+'_a*'+str(j)],'#95850F', lw = 4, label = 'b*')\n",
    "    \n",
    "    pl.scatter(So.loc[720:1250]['vol'], So.loc[720:1250]['seepage'],\n",
    "               c='#B0370D', s = 180, label = 'Drained', edgecolor = 'k')\n",
    "    So = Vols[fac[k]['lab']+'out']\n",
    "    pl.scatter(So.loc[720:1250]['vol'], So.loc[720:1250]['seepage'], \n",
    "                  c='#D69A1A',s = 180, label = 'Undrained', edgecolor = 'k')\n",
    "    \n",
    "    \n",
    "    ax.tick_params(labelsize = tx)\n",
    "    ax.set_ylim(0, 2.5e-6)\n",
    "    ax.set_xlim(1.5, 1.8)\n",
    "    y = np.linspace(0.51e-6,2.5e-6,3)\n",
    "    ty = ['%.1e' % i for i in y]\n",
    "    ax.set_yticks(y)\n",
    "    ax.set_yticklabels([i.upper().replace('0','') for i in ty], rotation = 'vertical')\n",
    "    #ax.set_yticklabels([0,'5.0E-7','1.0E-6','1.5E-6','2.0E-6'])\n",
    "    ax.grid()\n",
    "    ax.set_xticks([1.5,1.6, 1.7,1.8])\n",
    "    ax.set_xticklabels([1.5,1.6, 1.7,1.8])\n",
    "    texto = ' Slope$=%s$' % k\n",
    "    ax.tick_params(labelsize = tx)"
   ]
  }
 ],
 "metadata": {
  "kernelspec": {
   "display_name": "Python 3",
   "language": "python",
   "name": "python3"
  },
  "language_info": {
   "codemirror_mode": {
    "name": "ipython",
    "version": 3
   },
   "file_extension": ".py",
   "mimetype": "text/x-python",
   "name": "python",
   "nbconvert_exporter": "python",
   "pygments_lexer": "ipython3",
   "version": "3.7.0"
  },
  "toc": {
   "base_numbering": 1,
   "nav_menu": {},
   "number_sections": true,
   "sideBar": true,
   "skip_h1_title": false,
   "title_cell": "Table of Contents",
   "title_sidebar": "Contents",
   "toc_cell": false,
   "toc_position": {},
   "toc_section_display": true,
   "toc_window_display": false
  },
  "varInspector": {
   "cols": {
    "lenName": 16,
    "lenType": 16,
    "lenVar": 40
   },
   "kernels_config": {
    "python": {
     "delete_cmd_postfix": "",
     "delete_cmd_prefix": "del ",
     "library": "var_list.py",
     "varRefreshCmd": "print(var_dic_list())"
    },
    "r": {
     "delete_cmd_postfix": ") ",
     "delete_cmd_prefix": "rm(",
     "library": "var_list.r",
     "varRefreshCmd": "cat(var_dic_list()) "
    }
   },
   "types_to_exclude": [
    "module",
    "function",
    "builtin_function_or_method",
    "instance",
    "_Feature"
   ],
   "window_display": false
  }
 },
 "nbformat": 4,
 "nbformat_minor": 2
}
